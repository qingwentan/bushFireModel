{
 "cells": [
  {
   "attachments": {},
   "cell_type": "markdown",
   "metadata": {},
   "source": [
    "Model_result.csv:\n",
    "\n",
    "1. Number of steps/Time to extinguish fire: =number of steps(rows): excluding the header\n",
    "2. Number of extinguish firecell = last row extinguish\n",
    "3. Number of burned out cell: = last row of Burned out\n",
    "4. Number of cells were on fire: = (8000-last row of Fine) OR (Number of extinguish firecell+Number of burned out cell)\n",
    "5. Maximum Growth rate of firecell per step: = above the maximum cell of on fire, The maximum difference between any 2 adjcent cells ON Fire. \n",
    "6. Maximum Extinguish rate of fire cell per step: = from extinguish point, the maximum difference between any 2 adj cells ON Fire.\n",
    "7. Minimum Extinguish rate of fire per step: same as 6 but min\n",
    "\n",
    "\n",
    "agent_treeCell.csv:\n",
    "1. Count of Healthy Tree:= 8000*0.8 - Count of unhealthy Tree\n",
    "2. Count of unhealthy Tree\n",
    "3. Average damaged percentage for overall burned trees: = avg(life bar for unhealthy tree)\n",
    "4. (check if burning rate is all 20 by python, not visualization)\n",
    "\n",
    "\n",
    "\n",
    "\n",
    " "
   ]
  },
  {
   "attachments": {},
   "cell_type": "markdown",
   "metadata": {},
   "source": []
  },
  {
   "attachments": {},
   "cell_type": "markdown",
   "metadata": {},
   "source": []
  }
 ],
 "metadata": {
  "language_info": {
   "name": "python"
  },
  "orig_nbformat": 4
 },
 "nbformat": 4,
 "nbformat_minor": 2
}
