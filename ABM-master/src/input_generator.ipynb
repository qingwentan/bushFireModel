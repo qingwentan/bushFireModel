{
 "cells": [
  {
   "attachments": {},
   "cell_type": "markdown",
   "metadata": {},
   "source": [
    "# Input Generator"
   ]
  },
  {
   "cell_type": "code",
   "execution_count": 2,
   "metadata": {},
   "outputs": [
    {
     "data": {
      "text/plain": [
       "'\\nPurpose: This script is to generate various combination of input parameters, stored as a single csv file.\\n\\nAuthor: Ying Zhu\\n\\nDate: 18 Aug, 2023\\n'"
      ]
     },
     "execution_count": 2,
     "metadata": {},
     "output_type": "execute_result"
    }
   ],
   "source": [
    "\"\"\"\n",
    "Purpose: This script is to generate various combination of input parameters, stored as multiple csv files.\n",
    "         Each file contains different environment and agent settings for 1 fire strategy.        \n",
    "\n",
    "Author: Ying Zhu\n",
    "\n",
    "Date: 18 Aug, 2023\n",
    "\"\"\"\n"
   ]
  },
  {
   "cell_type": "code",
   "execution_count": 3,
   "metadata": {},
   "outputs": [
    {
     "data": {
      "text/plain": [
       "'\\nThe Forestfire model takes 16 arguments as follows:\\n        height, width: The size of the grid to model; 100 predefined\\n        density: What fraction of grid cells have a tree in them; float with 2 digits range from (0.01, 1)\\n        temperature: influences the number of spontaneous fires; int range from [0,100]\\n        truck_strategy: the tactic that firetrucks will adhere to; 7 strategies str\\n        river_width: in the case that a river is present, what is its width; int range from 0-10\\n        break_width: in the case that a pre-made fire break is present, what is its width; int range from 0-10\\n        random_fires: boolean indicating whether spontaneous fires are present; boolean 0/1\\n        vision: the distance fire fighting agents can look around them; 100 predifined \\n        truck_max_speed: the max speed with which firetruck agents can move around (grid cells/step); int 0-30\\n        wind_strength: the speed with which the wind moves; int 0-80 km/h\\n        wind_dir: string specifying the direction of the fire; 8 directions str\\n        sparse_ratio: the fraction of the vegetation that is sparse instead of dense; float with 1 digit 0-1\\n        steps_to_extinguishment: number of steps it takes for firetrucks to extinguish a burning cell; int 1-6 !!! TODO: check the meaning\\n        placed_on_edges: indicates whether the firetrucks are placed randomly over the grid, or equispaced on the rim; boolean 0/1\\n'"
      ]
     },
     "execution_count": 3,
     "metadata": {},
     "output_type": "execute_result"
    }
   ],
   "source": [
    "\n",
    "from itertools import product\n",
    "\n",
    "'''\n",
    "The Forestfire model takes 16 arguments as follows:\n",
    "        height, width: The size of the grid to model; 100 predefined\n",
    "        density: What fraction of grid cells have a tree in them; float with 2 digits range from (0.01, 1)\n",
    "        temperature: influences the number of spontaneous fires; int range from [0,100]\n",
    "        truck_strategy: the tactic that firetrucks will adhere to; 7 strategies str\n",
    "        river_width: in the case that a river is present, what is its width; int range from 0-10\n",
    "        break_width: in the case that a pre-made fire break is present, what is its width; int range from 0-10\n",
    "        random_fires: boolean indicating whether spontaneous fires are present; boolean 0/1\n",
    "        vision: the distance fire fighting agents can look around them; 100 predifined \n",
    "        truck_max_speed: the max speed with which firetruck agents can move around (grid cells/step); int 0-30\n",
    "        wind_strength: the speed with which the wind moves; int 0-80 km/h\n",
    "        wind_dir: string specifying the direction of the fire; 8 directions str\n",
    "        sparse_ratio: the fraction of the vegetation that is sparse instead of dense; float with 1 digit 0-1\n",
    "        steps_to_extinguishment: number of steps it takes for firetrucks to extinguish a burning cell; int 1-6 !!! TODO: check the meaning\n",
    "        placed_on_edges: indicates whether the firetrucks are placed randomly over the grid, or equispaced on the rim; boolean 0/1\n",
    "'''\n"
   ]
  },
  {
   "cell_type": "code",
   "execution_count": 4,
   "metadata": {},
   "outputs": [],
   "source": [
    "# pre-defined map grid size\n",
    "height = [100]\n",
    "width = [100]\n",
    "\n",
    "\n",
    "# \"Simulation results showed that when Ctot > 0.45 the fire covered the entire forest, but when Ctot ≤ 0.45 the fire did not spread.\" Ref. https://www.tandfonline.com/doi/full/10.1080/21580103.2016.1262793\n",
    "density = [0.8]\n",
    "\n",
    "\n",
    "# this temperture is only used to determine if a random spontenous fire will happen \n",
    "# the spontenous fire is disabled, so temperature takes default of 20\n",
    "temperatures = [20]\n",
    "\n",
    "\n",
    "truck_strategy = ['Goes to the closest fire', 'Goes to the biggest fire', 'Random movements', 'Parallel attack',\n",
    "                  'Optimized Parallel attack', 'Optimized closest', 'Indirect attack']\n",
    "\n",
    "# river_width and break_width are both set to [0, 1, 2, 3, 4, 5, 6, 7, 8, 9, 10]\n",
    "# river size will not exceed 200 meters if the map is 1000 meters if river exists. \n",
    "# 0, 2 \n",
    "river_width = [0,2]\n",
    "\n",
    "# A firebreak or double track is a gap in vegetation or other combustible material that acts as a barrier to (slow or) stop the progress of a bushfire or wildfire.\n",
    "# so no fire will be grow in this width\n",
    "# 0 or 1. \n",
    "break_width = [0,1]\n",
    "\n",
    "# disabled\n",
    "random_fires = [0]\n",
    "\n",
    "# 10,30,50\n",
    "num_firetruck = [10,30,50]\n",
    "\n",
    "# pre-defined\n",
    "vision = [100]\n",
    "\n",
    "# max_speed is set to [15, 20, 25, 30]\n",
    "# speed < 15 is ignored because based on my research, speed is as low as 16-32km/h. (?)\n",
    "# seek professional advise from Prof. Trent\n",
    "max_speed = [i for i in range(15, 31, 5)]\n",
    "\n",
    "# wind_strength is set to [0, 10, 20, 30, 40, 50, 60, 70, 80]\n",
    "# low 20, medium 50, high 80\n",
    "wind_strength = [20,50,80]\n",
    "\n",
    "# the effect of wind direction really depends on terrain. north-west, south-east, pick,4, perpendicular to each other \n",
    "wind_dir = [\"\\u2197 North/East\", \"\\u2198 South/East\", \"\\u2199 South/West\", \"\\u2196 North/West\"]\n",
    "\n",
    "# sparse_ratio is set to [0, 0.1, 0.2, 0.3, 0.4, 0.5, 0.6, 0.7, 0.8, 0.9, 1]\n",
    "sparse_ratio = [0]\n",
    "\n",
    "# low, medium, high rate (McCarthy 400m,300,200m. rate of extinguishnent)\n",
    "# 4, 1, 0.5 hours\n",
    "# 6, 2, 1, steps (the highest step we can set is 6)\n",
    "steps_to_extinguishment = [1,2,6]\n",
    "\n",
    "# 0,randomly placement at beginning more realistic \n",
    "placed_on_edges = [0,1]\n",
    "\n",
    "\n"
   ]
  },
  {
   "cell_type": "code",
   "execution_count": 5,
   "metadata": {},
   "outputs": [
    {
     "name": "stdout",
     "output_type": "stream",
     "text": [
      "height: [100]\n",
      "width: [100]\n",
      "density: [0.8]\n",
      "temperatures: [20]\n",
      "truck_strategy: ['Goes to the closest fire', 'Goes to the biggest fire', 'Random movements', 'Parallel attack', 'Optimized Parallel attack', 'Optimized closest', 'Indirect attack']\n",
      "river_width: [0, 2]\n",
      "break_width: [0, 1]\n",
      "random_fires: [0]\n",
      "num_firetruck: [10, 30, 50]\n",
      "vision: [100]\n",
      "max_speed: [15, 20, 25, 30]\n",
      "wind_strength: [20, 50, 80]\n",
      "wind_dir: ['↗ North/East', '↘ South/East', '↙ South/West', '↖ North/West']\n",
      "sparse_ratio: [0]\n",
      "steps_to_extinguishment: [1, 2, 6]\n",
      "placed_on_edges: [0, 1]\n"
     ]
    }
   ],
   "source": [
    "# print out all variables \n",
    "variables = [\n",
    "    (\"height\", height),\n",
    "    (\"width\", width),\n",
    "    (\"density\", density),\n",
    "    (\"temperatures\", temperatures),\n",
    "    (\"truck_strategy\", truck_strategy),\n",
    "    (\"river_width\", river_width),\n",
    "    (\"break_width\", break_width),\n",
    "    (\"random_fires\", random_fires),\n",
    "    (\"num_firetruck\", num_firetruck),\n",
    "    (\"vision\", vision),\n",
    "    (\"max_speed\", max_speed),\n",
    "    (\"wind_strength\", wind_strength),\n",
    "    (\"wind_dir\", wind_dir),\n",
    "    (\"sparse_ratio\", sparse_ratio),\n",
    "    (\"steps_to_extinguishment\", steps_to_extinguishment),\n",
    "    (\"placed_on_edges\", placed_on_edges)\n",
    "]\n",
    "\n",
    "for var_name, var_value in variables:\n",
    "    print(f\"{var_name}: {var_value}\")\n"
   ]
  },
  {
   "cell_type": "code",
   "execution_count": 6,
   "metadata": {},
   "outputs": [
    {
     "name": "stdout",
     "output_type": "stream",
     "text": [
      "height: [100]\n",
      "width: [100]\n",
      "density: [0.8]\n",
      "temperatures: [20]\n",
      "river_width: [0, 2]\n",
      "break_width: [0, 1]\n",
      "random_fires: [0]\n",
      "num_firetruck: [10, 30, 50]\n",
      "vision: [100]\n",
      "max_speed: [15, 20, 25, 30]\n",
      "wind_strength: [20, 50, 80]\n",
      "wind_dir: ['↗ North/East', '↘ South/East', '↙ South/West', '↖ North/West']\n",
      "sparse_ratio: [0]\n",
      "steps_to_extinguishment: [1, 2, 6]\n",
      "placed_on_edges: [0, 1]\n",
      "Number of Simulations in 1 strategy: 3456\n"
     ]
    }
   ],
   "source": [
    "from itertools import product\n",
    "import csv\n",
    "\n",
    "parameters = [\n",
    "    (\"height\", height),\n",
    "    (\"width\", width),\n",
    "    (\"density\", density),\n",
    "    (\"temperatures\", temperatures),\n",
    "    # \"truck_strategy\" will be set within the loop\n",
    "    (\"river_width\", river_width),\n",
    "    (\"break_width\", break_width),\n",
    "    (\"random_fires\", random_fires),\n",
    "    (\"num_firetruck\", num_firetruck),\n",
    "    (\"vision\", vision),\n",
    "    (\"max_speed\", max_speed),\n",
    "    (\"wind_strength\", wind_strength),\n",
    "    (\"wind_dir\", wind_dir),\n",
    "    (\"sparse_ratio\", sparse_ratio),\n",
    "    (\"steps_to_extinguishment\", steps_to_extinguishment),\n",
    "    (\"placed_on_edges\", placed_on_edges)\n",
    "]\n",
    "\n",
    "# count the number of simulations in 1 strategy\n",
    "n = 0\n",
    "for var_name, var_value in parameters:\n",
    "    temp = len(var_value)\n",
    "    print(f\"{var_name}: {var_value}\")\n",
    "    if n == 0:\n",
    "        n = temp\n",
    "    else: \n",
    "        n = n*temp\n",
    "print(\"Number of Simulations in 1 strategy:\", n)"
   ]
  },
  {
   "cell_type": "code",
   "execution_count": 10,
   "metadata": {},
   "outputs": [],
   "source": [
    "for strategy in truck_strategy:\n",
    "    parameters[4] = (\"truck_strategy\", [strategy])  # Set the current strategy\n",
    "    keys = [param[0] for param in parameters]\n",
    "    values = [param[1] for param in parameters]\n",
    "    \n",
    "    combinations = product(*values)\n",
    "\n",
    "    # Save combinations of the current strategy to a CSV file\n",
    "    with open(f\"../data/input_data/strategy_{strategy}.csv\", \"w\", newline='') as file:\n",
    "        writer = csv.writer(file)\n",
    "        writer.writerow(keys)\n",
    "        for combo in combinations:\n",
    "            writer.writerow(combo)\n",
    "\n"
   ]
  }
 ],
 "metadata": {
  "kernelspec": {
   "display_name": "ads",
   "language": "python",
   "name": "python3"
  },
  "language_info": {
   "codemirror_mode": {
    "name": "ipython",
    "version": 3
   },
   "file_extension": ".py",
   "mimetype": "text/x-python",
   "name": "python",
   "nbconvert_exporter": "python",
   "pygments_lexer": "ipython3",
   "version": "3.8.17"
  },
  "orig_nbformat": 4
 },
 "nbformat": 4,
 "nbformat_minor": 2
}
