{
 "cells": [
  {
   "attachments": {},
   "cell_type": "markdown",
   "metadata": {},
   "source": [
    "### Purpose:\n",
    "Before running the real simulations, we wish to take samples to test the model randomness distribution, then decide the minimum replications of each set of parameter setting.\n",
    "\n",
    "\n",
    "#### Sample:\n",
    "Take first set of parameters from one input file to run relative strategy 1000 times and store them, which mean each strategy have 1k runs, total for 7k runs.\n",
    "\n",
    "Author: Xiao Liu\n",
    "\n",
    "Last edited: 13 Sep 2023"
   ]
  },
  {
   "cell_type": "code",
   "execution_count": 1,
   "metadata": {},
   "outputs": [],
   "source": [
    "import csv\n",
    "import os \n",
    "import sys\n",
    "import time\n",
    "import gc\n",
    "import glob\n",
    "from main_model import ForestFire"
   ]
  },
  {
   "attachments": {},
   "cell_type": "markdown",
   "metadata": {},
   "source": [
    "Extract the input folder path "
   ]
  },
  {
   "cell_type": "code",
   "execution_count": 2,
   "metadata": {},
   "outputs": [],
   "source": [
    "files = glob.iglob('../data/input/*.csv', recursive= True)"
   ]
  },
  {
   "cell_type": "code",
   "execution_count": 3,
   "metadata": {},
   "outputs": [],
   "source": [
    "# Check if read the file successfully.\n",
    "# for file in files:\n",
    "#    print(file)"
   ]
  },
  {
   "cell_type": "code",
   "execution_count": 4,
   "metadata": {},
   "outputs": [],
   "source": [
    "def create_folder(path):\n",
    "    \"\"\"Create a folder at the specified path if not exist.\"\"\"\n",
    "    try:\n",
    "        os.makedirs(path)\n",
    "        print(f\"Folder created at {path}\")\n",
    "    except FileExistsError:\n",
    "        print(f\"Folder already exists at {path}\")\n",
    "    except Exception as e:\n",
    "        print(f\"Error creating folder: {e}\")"
   ]
  },
  {
   "cell_type": "code",
   "execution_count": 8,
   "metadata": {},
   "outputs": [],
   "source": [
    "# Start the timer\n",
    "def process(input_path):\n",
    "        start_time = time.time()\n",
    "\n",
    "        with open (input_path, \"r\" ) as file:\n",
    "            test_file = csv.DictReader(file)\n",
    "\n",
    "            for row in test_file:\n",
    "                height = int(row['height'])\n",
    "                width = int(row['width'])\n",
    "                density = float(row['density'])\n",
    "                temperature = int(row['temperature'])\n",
    "                truck_strategy = row['truck_strategy']\n",
    "                river_width = int(row['river_width'])\n",
    "                break_width = int(row['break_width'])\n",
    "                random_fires = int(row['random_fires'])\n",
    "                num_firetruck = int(row['num_firetruck'])\n",
    "                vision = int(row['vision'])\n",
    "                max_speed = int(row['max_speed'])\n",
    "                wind_strength = int(row['wind_strength'])\n",
    "                wind_dir = row['wind_dir']\n",
    "                sparse_ratio = float(row['sparse_ratio'])\n",
    "                steps_to_extinguishment = int(row['steps_to_extinguishment'])\n",
    "                placed_on_edges = int(row['placed_on_edges'])\n",
    "                break\n",
    "\n",
    "\n",
    "\n",
    "            counter  = 1\n",
    "            while counter <= 1000:\n",
    "                \n",
    "                print(f\"Simulation {counter} Running...\")\n",
    "                fire = ForestFire(\n",
    "                    height,\n",
    "                    width,\n",
    "                    density,\n",
    "                    temperature,\n",
    "                    truck_strategy,\n",
    "                    river_width, \n",
    "                    break_width, \n",
    "                    random_fires,\n",
    "                    num_firetruck,\n",
    "                    vision,\n",
    "                    max_speed,\n",
    "                    wind_strength,\n",
    "                    wind_dir,\n",
    "                    sparse_ratio,\n",
    "                    steps_to_extinguishment,\n",
    "                    placed_on_edges,\n",
    "                ) \n",
    "                fire.run_model()\n",
    "                # create directory of the output file \n",
    "                create_folder(f'../data/test/raw/{truck_strategy}/sim_{counter}/')\n",
    "\n",
    "                results = fire.dc.get_model_vars_dataframe()\n",
    "                results.to_csv(f\"../data/test/raw/{truck_strategy}/sim_{counter}/model_result.csv\")\n",
    "\n",
    "                agent_variable = fire.dc.get_agent_vars_dataframe()\n",
    "                agent_variable[0].to_csv(f\"../data/test/raw/{truck_strategy}/sim_{counter}/agent_treeCell.csv\")\n",
    "                agent_variable[1].to_csv(f\"../data/test/raw/{truck_strategy}/sim_{counter}/agent_firetruck.csv\")\n",
    "\n",
    "                counter += 1\n",
    "                del fire\n",
    "                gc.collect()\n",
    "            \n",
    "        # End the timer\n",
    "        end_time = time.time()\n",
    "        print(truck_strategy + \" are finished!\")\n",
    "\n",
    "        # Calculate the elapsed time\n",
    "        elapsed_time = end_time - start_time\n",
    "        print(f\"The simulation took {elapsed_time} seconds to run.\")\n",
    "            \n"
   ]
  },
  {
   "cell_type": "code",
   "execution_count": 9,
   "metadata": {},
   "outputs": [
    {
     "name": "stdout",
     "output_type": "stream",
     "text": [
      "Simulation 1 Running...\n",
      "Folder created at ../data/test/raw/Goes to the closest fire/sim_1/\n",
      "Simulation 2 Running...\n",
      "Folder created at ../data/test/raw/Goes to the closest fire/sim_2/\n",
      "Simulation 3 Running...\n"
     ]
    },
    {
     "ename": "KeyboardInterrupt",
     "evalue": "",
     "output_type": "error",
     "traceback": [
      "\u001b[0;31m---------------------------------------------------------------------------\u001b[0m",
      "\u001b[0;31mKeyboardInterrupt\u001b[0m                         Traceback (most recent call last)",
      "\u001b[1;32m/Users/suzy/Unimelb/MasterOfDS/2023S1/DS Project/bushFireModel/src/test_1k_runs.ipynb Cell 9\u001b[0m in \u001b[0;36m<cell line: 1>\u001b[0;34m()\u001b[0m\n\u001b[1;32m      <a href='vscode-notebook-cell:/Users/suzy/Unimelb/MasterOfDS/2023S1/DS%20Project/bushFireModel/src/test_1k_runs.ipynb#X21sZmlsZQ%3D%3D?line=0'>1</a>\u001b[0m \u001b[39mfor\u001b[39;00m file \u001b[39min\u001b[39;00m files:\n\u001b[0;32m----> <a href='vscode-notebook-cell:/Users/suzy/Unimelb/MasterOfDS/2023S1/DS%20Project/bushFireModel/src/test_1k_runs.ipynb#X21sZmlsZQ%3D%3D?line=1'>2</a>\u001b[0m     process(file)\n",
      "\u001b[1;32m/Users/suzy/Unimelb/MasterOfDS/2023S1/DS Project/bushFireModel/src/test_1k_runs.ipynb Cell 9\u001b[0m in \u001b[0;36mprocess\u001b[0;34m(input_path)\u001b[0m\n\u001b[1;32m     <a href='vscode-notebook-cell:/Users/suzy/Unimelb/MasterOfDS/2023S1/DS%20Project/bushFireModel/src/test_1k_runs.ipynb#X21sZmlsZQ%3D%3D?line=31'>32</a>\u001b[0m \u001b[39mprint\u001b[39m(\u001b[39mf\u001b[39m\u001b[39m\"\u001b[39m\u001b[39mSimulation \u001b[39m\u001b[39m{\u001b[39;00mcounter\u001b[39m}\u001b[39;00m\u001b[39m Running...\u001b[39m\u001b[39m\"\u001b[39m)\n\u001b[1;32m     <a href='vscode-notebook-cell:/Users/suzy/Unimelb/MasterOfDS/2023S1/DS%20Project/bushFireModel/src/test_1k_runs.ipynb#X21sZmlsZQ%3D%3D?line=32'>33</a>\u001b[0m fire \u001b[39m=\u001b[39m ForestFire(\n\u001b[1;32m     <a href='vscode-notebook-cell:/Users/suzy/Unimelb/MasterOfDS/2023S1/DS%20Project/bushFireModel/src/test_1k_runs.ipynb#X21sZmlsZQ%3D%3D?line=33'>34</a>\u001b[0m     height,\n\u001b[1;32m     <a href='vscode-notebook-cell:/Users/suzy/Unimelb/MasterOfDS/2023S1/DS%20Project/bushFireModel/src/test_1k_runs.ipynb#X21sZmlsZQ%3D%3D?line=34'>35</a>\u001b[0m     width,\n\u001b[0;32m   (...)\u001b[0m\n\u001b[1;32m     <a href='vscode-notebook-cell:/Users/suzy/Unimelb/MasterOfDS/2023S1/DS%20Project/bushFireModel/src/test_1k_runs.ipynb#X21sZmlsZQ%3D%3D?line=48'>49</a>\u001b[0m     placed_on_edges,\n\u001b[1;32m     <a href='vscode-notebook-cell:/Users/suzy/Unimelb/MasterOfDS/2023S1/DS%20Project/bushFireModel/src/test_1k_runs.ipynb#X21sZmlsZQ%3D%3D?line=49'>50</a>\u001b[0m ) \n\u001b[0;32m---> <a href='vscode-notebook-cell:/Users/suzy/Unimelb/MasterOfDS/2023S1/DS%20Project/bushFireModel/src/test_1k_runs.ipynb#X21sZmlsZQ%3D%3D?line=50'>51</a>\u001b[0m fire\u001b[39m.\u001b[39;49mrun_model()\n\u001b[1;32m     <a href='vscode-notebook-cell:/Users/suzy/Unimelb/MasterOfDS/2023S1/DS%20Project/bushFireModel/src/test_1k_runs.ipynb#X21sZmlsZQ%3D%3D?line=51'>52</a>\u001b[0m \u001b[39m# create directory of the output file \u001b[39;00m\n\u001b[1;32m     <a href='vscode-notebook-cell:/Users/suzy/Unimelb/MasterOfDS/2023S1/DS%20Project/bushFireModel/src/test_1k_runs.ipynb#X21sZmlsZQ%3D%3D?line=52'>53</a>\u001b[0m create_folder(\u001b[39mf\u001b[39m\u001b[39m'\u001b[39m\u001b[39m../data/test/raw/\u001b[39m\u001b[39m{\u001b[39;00mtruck_strategy\u001b[39m}\u001b[39;00m\u001b[39m/sim_\u001b[39m\u001b[39m{\u001b[39;00mcounter\u001b[39m}\u001b[39;00m\u001b[39m/\u001b[39m\u001b[39m'\u001b[39m)\n",
      "File \u001b[0;32m~/opt/anaconda3/envs/ads/lib/python3.8/site-packages/mesa/model.py:46\u001b[0m, in \u001b[0;36mModel.run_model\u001b[0;34m(self)\u001b[0m\n\u001b[1;32m     42\u001b[0m \u001b[39m\u001b[39m\u001b[39m\"\"\"Run the model until the end condition is reached. Overload as\u001b[39;00m\n\u001b[1;32m     43\u001b[0m \u001b[39mneeded.\u001b[39;00m\n\u001b[1;32m     44\u001b[0m \u001b[39m\"\"\"\u001b[39;00m\n\u001b[1;32m     45\u001b[0m \u001b[39mwhile\u001b[39;00m \u001b[39mself\u001b[39m\u001b[39m.\u001b[39mrunning:\n\u001b[0;32m---> 46\u001b[0m     \u001b[39mself\u001b[39;49m\u001b[39m.\u001b[39;49mstep()\n",
      "File \u001b[0;32m~/Unimelb/MasterOfDS/2023S1/DS Project/bushFireModel/src/main_model.py:377\u001b[0m, in \u001b[0;36mForestFire.step\u001b[0;34m(self)\u001b[0m\n\u001b[1;32m    372\u001b[0m         \u001b[39mself\u001b[39m\u001b[39m.\u001b[39massigned_list \u001b[39m=\u001b[39m \u001b[39mself\u001b[39m\u001b[39m.\u001b[39massign_parallel(\n\u001b[1;32m    373\u001b[0m             \u001b[39mself\u001b[39m\u001b[39m.\u001b[39mcompute_distances(\u001b[39mself\u001b[39m\u001b[39m.\u001b[39mtree_list, \u001b[39mself\u001b[39m\u001b[39m.\u001b[39mfirefighters_lists),\n\u001b[1;32m    374\u001b[0m             \u001b[39mself\u001b[39m\u001b[39m.\u001b[39mtree_list)\n\u001b[1;32m    376\u001b[0m     \u001b[39m# progress the firetrucks by one step\u001b[39;00m\n\u001b[0;32m--> 377\u001b[0m     \u001b[39mself\u001b[39;49m\u001b[39m.\u001b[39;49mschedule_FireTruck\u001b[39m.\u001b[39;49mstep()\n\u001b[1;32m    379\u001b[0m \u001b[39m# collect data\u001b[39;00m\n\u001b[1;32m    380\u001b[0m \u001b[39mself\u001b[39m\u001b[39m.\u001b[39mdc\u001b[39m.\u001b[39mcollect(\u001b[39mself\u001b[39m, [TreeCell, Firetruck]) \u001b[39m# because of modified dc, now the agents need to be specified\u001b[39;00m\n",
      "File \u001b[0;32m~/opt/anaconda3/envs/ads/lib/python3.8/site-packages/mesa/time.py:128\u001b[0m, in \u001b[0;36mRandomActivation.step\u001b[0;34m(self)\u001b[0m\n\u001b[1;32m    123\u001b[0m \u001b[39mdef\u001b[39;00m \u001b[39mstep\u001b[39m(\u001b[39mself\u001b[39m) \u001b[39m-\u001b[39m\u001b[39m>\u001b[39m \u001b[39mNone\u001b[39;00m:\n\u001b[1;32m    124\u001b[0m \u001b[39m    \u001b[39m\u001b[39m\"\"\"Executes the step of all agents, one at a time, in\u001b[39;00m\n\u001b[1;32m    125\u001b[0m \u001b[39m    random order.\u001b[39;00m\n\u001b[1;32m    126\u001b[0m \n\u001b[1;32m    127\u001b[0m \u001b[39m    \"\"\"\u001b[39;00m\n\u001b[0;32m--> 128\u001b[0m     \u001b[39mself\u001b[39;49m\u001b[39m.\u001b[39;49mdo_each(\u001b[39m\"\u001b[39;49m\u001b[39mstep\u001b[39;49m\u001b[39m\"\u001b[39;49m, shuffle\u001b[39m=\u001b[39;49m\u001b[39mTrue\u001b[39;49;00m)\n\u001b[1;32m    129\u001b[0m     \u001b[39mself\u001b[39m\u001b[39m.\u001b[39msteps \u001b[39m+\u001b[39m\u001b[39m=\u001b[39m \u001b[39m1\u001b[39m\n\u001b[1;32m    130\u001b[0m     \u001b[39mself\u001b[39m\u001b[39m.\u001b[39mtime \u001b[39m+\u001b[39m\u001b[39m=\u001b[39m \u001b[39m1\u001b[39m\n",
      "File \u001b[0;32m~/opt/anaconda3/envs/ads/lib/python3.8/site-packages/mesa/time.py:110\u001b[0m, in \u001b[0;36mBaseScheduler.do_each\u001b[0;34m(self, method, agent_keys, shuffle)\u001b[0m\n\u001b[1;32m    108\u001b[0m \u001b[39mfor\u001b[39;00m agent_key \u001b[39min\u001b[39;00m agent_keys:\n\u001b[1;32m    109\u001b[0m     \u001b[39mif\u001b[39;00m agent_key \u001b[39min\u001b[39;00m \u001b[39mself\u001b[39m\u001b[39m.\u001b[39m_agents:\n\u001b[0;32m--> 110\u001b[0m         \u001b[39mgetattr\u001b[39;49m(\u001b[39mself\u001b[39;49m\u001b[39m.\u001b[39;49m_agents[agent_key], method)()\n",
      "File \u001b[0;32m~/Unimelb/MasterOfDS/2023S1/DS Project/bushFireModel/src/agents/firetruck.py:609\u001b[0m, in \u001b[0;36mFiretruck.step\u001b[0;34m(self)\u001b[0m\n\u001b[1;32m    606\u001b[0m \u001b[39mdef\u001b[39;00m \u001b[39mstep\u001b[39m(\u001b[39mself\u001b[39m):\n\u001b[1;32m    607\u001b[0m     \u001b[39m# set step according to strategy\u001b[39;00m\n\u001b[1;32m    608\u001b[0m     \u001b[39mif\u001b[39;00m (\u001b[39mself\u001b[39m\u001b[39m.\u001b[39mtruck_strategy \u001b[39m==\u001b[39m \u001b[39m'\u001b[39m\u001b[39mGoes to the closest fire\u001b[39m\u001b[39m'\u001b[39m):\n\u001b[0;32m--> 609\u001b[0m         \u001b[39mself\u001b[39;49m\u001b[39m.\u001b[39;49mclosestfire_move()\n\u001b[1;32m    610\u001b[0m     \u001b[39melif\u001b[39;00m (\u001b[39mself\u001b[39m\u001b[39m.\u001b[39mtruck_strategy \u001b[39m==\u001b[39m \u001b[39m'\u001b[39m\u001b[39mGoes to the biggest fire\u001b[39m\u001b[39m'\u001b[39m):\n\u001b[1;32m    611\u001b[0m         \u001b[39mself\u001b[39m\u001b[39m.\u001b[39mbiggestfire_move()\n",
      "File \u001b[0;32m~/Unimelb/MasterOfDS/2023S1/DS Project/bushFireModel/src/agents/firetruck.py:162\u001b[0m, in \u001b[0;36mWalker.closestfire_move\u001b[0;34m(self)\u001b[0m\n\u001b[1;32m    159\u001b[0m     inner_radius \u001b[39m=\u001b[39m \u001b[39m0\u001b[39m\n\u001b[1;32m    161\u001b[0m \u001b[39m# find hot trees in neighborhood\u001b[39;00m\n\u001b[0;32m--> 162\u001b[0m neighbors_list \u001b[39m=\u001b[39m \u001b[39mself\u001b[39;49m\u001b[39m.\u001b[39;49mmodel\u001b[39m.\u001b[39;49mgrid\u001b[39m.\u001b[39;49mget_neighbors(\n\u001b[1;32m    163\u001b[0m     \u001b[39mself\u001b[39;49m\u001b[39m.\u001b[39;49mpos, moore\u001b[39m=\u001b[39;49m\u001b[39mTrue\u001b[39;49;00m, radius\u001b[39m=\u001b[39;49mlimited_vision, inner_radius\u001b[39m=\u001b[39;49minner_radius)\n\u001b[1;32m    165\u001b[0m \u001b[39m# filter for trees that are on fire\u001b[39;00m\n\u001b[1;32m    166\u001b[0m neighbors_list \u001b[39m=\u001b[39m [\n\u001b[1;32m    167\u001b[0m     x \u001b[39mfor\u001b[39;00m x \u001b[39min\u001b[39;00m neighbors_list \u001b[39mif\u001b[39;00m x\u001b[39m.\u001b[39mcondition \u001b[39m==\u001b[39m \u001b[39m\"\u001b[39m\u001b[39mOn Fire\u001b[39m\u001b[39m\"\u001b[39m]\n",
      "File \u001b[0;32m~/Unimelb/MasterOfDS/2023S1/DS Project/bushFireModel/src/space_v2.py:221\u001b[0m, in \u001b[0;36mGrid.get_neighbors\u001b[0;34m(self, pos, moore, include_center, radius, inner_radius)\u001b[0m\n\u001b[1;32m    203\u001b[0m \u001b[39mdef\u001b[39;00m \u001b[39mget_neighbors\u001b[39m(\u001b[39mself\u001b[39m, pos, moore,\n\u001b[1;32m    204\u001b[0m                   include_center\u001b[39m=\u001b[39m\u001b[39mFalse\u001b[39;00m, radius\u001b[39m=\u001b[39m\u001b[39m1\u001b[39m, inner_radius\u001b[39m=\u001b[39m\u001b[39m0\u001b[39m):\n\u001b[1;32m    205\u001b[0m \u001b[39m    \u001b[39m\u001b[39m\"\"\" Return a list of neighbors to a certain point.\u001b[39;00m\n\u001b[1;32m    206\u001b[0m \u001b[39m    Args:\u001b[39;00m\n\u001b[1;32m    207\u001b[0m \u001b[39m        pos: Coordinate tuple for the neighborhood to get.\u001b[39;00m\n\u001b[0;32m   (...)\u001b[0m\n\u001b[1;32m    219\u001b[0m \u001b[39m        (8 and 4 if not including the center).\u001b[39;00m\n\u001b[1;32m    220\u001b[0m \u001b[39m    \"\"\"\u001b[39;00m\n\u001b[0;32m--> 221\u001b[0m     \u001b[39mreturn\u001b[39;00m \u001b[39mlist\u001b[39;49m(\u001b[39mself\u001b[39;49m\u001b[39m.\u001b[39;49miter_neighbors(\n\u001b[1;32m    222\u001b[0m         pos, moore, include_center, radius, inner_radius\u001b[39m=\u001b[39;49m\u001b[39m0\u001b[39;49m))\n",
      "File \u001b[0;32m~/Unimelb/MasterOfDS/2023S1/DS Project/bushFireModel/src/space_v2.py:413\u001b[0m, in \u001b[0;36m<genexpr>\u001b[0;34m(.0)\u001b[0m\n\u001b[1;32m    405\u001b[0m \u001b[39m@accept_tuple_argument\u001b[39m\n\u001b[1;32m    406\u001b[0m \u001b[39mdef\u001b[39;00m \u001b[39miter_cell_list_contents\u001b[39m(\u001b[39mself\u001b[39m, cell_list):\n\u001b[1;32m    407\u001b[0m \u001b[39m    \u001b[39m\u001b[39m\"\"\"\u001b[39;00m\n\u001b[1;32m    408\u001b[0m \u001b[39m    Args:\u001b[39;00m\n\u001b[1;32m    409\u001b[0m \u001b[39m        cell_list: Array-like of (x, y) tuples, or single tuple.\u001b[39;00m\n\u001b[1;32m    410\u001b[0m \u001b[39m    Returns:\u001b[39;00m\n\u001b[1;32m    411\u001b[0m \u001b[39m        A iterator of the contents of the cells identified in cell_list\u001b[39;00m\n\u001b[1;32m    412\u001b[0m \u001b[39m    \"\"\"\u001b[39;00m\n\u001b[0;32m--> 413\u001b[0m     \u001b[39mreturn\u001b[39;00m itertools\u001b[39m.\u001b[39mchain\u001b[39m.\u001b[39mfrom_iterable(\n\u001b[1;32m    414\u001b[0m         \u001b[39mself\u001b[39m[x][y] \u001b[39mfor\u001b[39;00m x, y \u001b[39min\u001b[39;00m cell_list \u001b[39mif\u001b[39;00m \u001b[39mnot\u001b[39;00m \u001b[39mself\u001b[39m\u001b[39m.\u001b[39mis_cell_empty((x, y)))\n",
      "File \u001b[0;32m~/Unimelb/MasterOfDS/2023S1/DS Project/bushFireModel/src/space_v2.py:147\u001b[0m, in \u001b[0;36mGrid.iter_neighborhood\u001b[0;34m(self, pos, moore, include_center, radius, inner_radius)\u001b[0m\n\u001b[1;32m    145\u001b[0m     \u001b[39mcontinue\u001b[39;00m\n\u001b[1;32m    146\u001b[0m \u001b[39m# Skip if not a torus and new coords out of bounds.\u001b[39;00m\n\u001b[0;32m--> 147\u001b[0m \u001b[39mif\u001b[39;00m \u001b[39mnot\u001b[39;00m \u001b[39mself\u001b[39m\u001b[39m.\u001b[39mtorus \u001b[39mand\u001b[39;00m (\u001b[39mnot\u001b[39;00m (\u001b[39m0\u001b[39m \u001b[39m<\u001b[39m\u001b[39m=\u001b[39m dx \u001b[39m+\u001b[39m x \u001b[39m<\u001b[39m \u001b[39mself\u001b[39m\u001b[39m.\u001b[39mwidth) \u001b[39mor\u001b[39;00m \u001b[39mnot\u001b[39;00m (\u001b[39m0\u001b[39m \u001b[39m<\u001b[39m\u001b[39m=\u001b[39m dy \u001b[39m+\u001b[39m y \u001b[39m<\u001b[39m \u001b[39mself\u001b[39m\u001b[39m.\u001b[39mheight)):\n\u001b[1;32m    148\u001b[0m     \u001b[39mcontinue\u001b[39;00m\n\u001b[1;32m    150\u001b[0m px, py \u001b[39m=\u001b[39m \u001b[39mself\u001b[39m\u001b[39m.\u001b[39mtorus_adj((x \u001b[39m+\u001b[39m dx, y \u001b[39m+\u001b[39m dy))\n",
      "\u001b[0;31mKeyboardInterrupt\u001b[0m: "
     ]
    }
   ],
   "source": [
    "for file in files:\n",
    "    process(file)"
   ]
  },
  {
   "cell_type": "code",
   "execution_count": 11,
   "metadata": {},
   "outputs": [
    {
     "name": "stdout",
     "output_type": "stream",
     "text": [
      "0\n",
      "1\n",
      "2\n",
      "3\n",
      "4\n"
     ]
    }
   ],
   "source": []
  }
 ],
 "metadata": {
  "kernelspec": {
   "display_name": "Dataproject",
   "language": "python",
   "name": "python3"
  },
  "language_info": {
   "codemirror_mode": {
    "name": "ipython",
    "version": 3
   },
   "file_extension": ".py",
   "mimetype": "text/x-python",
   "name": "python",
   "nbconvert_exporter": "python",
   "pygments_lexer": "ipython3",
   "version": "3.8.17"
  },
  "orig_nbformat": 4
 },
 "nbformat": 4,
 "nbformat_minor": 2
}
