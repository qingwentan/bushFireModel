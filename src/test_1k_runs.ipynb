{
 "cells": [
  {
   "attachments": {},
   "cell_type": "markdown",
   "metadata": {},
   "source": [
    "Input environment:\n",
    "1. main_model\n",
    "2. csv\n",
    "3. os\n",
    "4. sys"
   ]
  },
  {
   "cell_type": "code",
   "execution_count": 6,
   "metadata": {},
   "outputs": [],
   "source": [
    "import csv\n",
    "import os \n",
    "import sys\n",
    "import time\n",
    "import gc\n",
    "import glob\n",
    "from main_model import ForestFire"
   ]
  },
  {
   "attachments": {},
   "cell_type": "markdown",
   "metadata": {},
   "source": [
    "Extract the input files path"
   ]
  },
  {
   "cell_type": "code",
   "execution_count": 14,
   "metadata": {},
   "outputs": [
    {
     "name": "stdout",
     "output_type": "stream",
     "text": [
      "../data/input/strategy_Goes to the biggest fire.csv\n",
      "../data/input/strategy_Optimized closest.csv\n",
      "../data/input/strategy_Goes to the closest fire.csv\n",
      "../data/input/strategy_Indirect attack.csv\n",
      "../data/input/strategy_Random movements.csv\n",
      "../data/input/strategy_Optimized Parallel attack.csv\n",
      "../data/input/strategy_Parallel attack.csv\n"
     ]
    }
   ],
   "source": [
    "files = glob.iglob('../data/input/*.csv', recursive= True)\n",
    "for file in files:\n",
    "    print(file)"
   ]
  },
  {
   "cell_type": "code",
   "execution_count": 15,
   "metadata": {},
   "outputs": [],
   "source": [
    "def create_folder(path):\n",
    "    \"\"\"Create a folder at the specified path if not exist.\"\"\"\n",
    "    try:\n",
    "        os.makedirs(path)\n",
    "        print(f\"Folder created at {path}\")\n",
    "    except FileExistsError:\n",
    "        print(f\"Folder already exists at {path}\")\n",
    "    except Exception as e:\n",
    "        print(f\"Error creating folder: {e}\")"
   ]
  },
  {
   "cell_type": "code",
   "execution_count": 9,
   "metadata": {},
   "outputs": [],
   "source": [
    "# Start the timer\n",
    "def process(input_path):\n",
    "        start_time = time.time()\n",
    "\n",
    "        with open (input_path, \"r\" ) as file:\n",
    "            test_file = csv.DictReader(file)\n",
    "\n",
    "            for row in test_file:\n",
    "                height = int(row['height'])\n",
    "                width = int(row['width'])\n",
    "                density = float(row['density'])\n",
    "                temperature = int(row['temperature'])\n",
    "                truck_strategy = row['truck_strategy']\n",
    "                river_width = int(row['river_width'])\n",
    "                break_width = int(row['break_width'])\n",
    "                random_fires = int(row['random_fires'])\n",
    "                num_firetruck = int(row['num_firetruck'])\n",
    "                vision = int(row['vision'])\n",
    "                max_speed = int(row['max_speed'])\n",
    "                wind_strength = int(row['wind_strength'])\n",
    "                wind_dir = row['wind_dir']\n",
    "                sparse_ratio = float(row['sparse_ratio'])\n",
    "                steps_to_extinguishment = int(row['steps_to_extinguishment'])\n",
    "                placed_on_edges = int(row['placed_on_edges'])\n",
    "                break\n",
    "\n",
    "\n",
    "\n",
    "            counter  = 1\n",
    "            while counter <= 1000:\n",
    "                \n",
    "                print(f\"Simulation {counter} Running...\")\n",
    "                fire = ForestFire(\n",
    "                    height,\n",
    "                    width,\n",
    "                    density,\n",
    "                    temperature,\n",
    "                    truck_strategy,\n",
    "                    river_width, \n",
    "                    break_width, \n",
    "                    random_fires,\n",
    "                    num_firetruck,\n",
    "                    vision,\n",
    "                    max_speed,\n",
    "                    wind_strength,\n",
    "                    wind_dir,\n",
    "                    sparse_ratio,\n",
    "                    steps_to_extinguishment,\n",
    "                    placed_on_edges,\n",
    "                ) \n",
    "                fire.run_model()\n",
    "                # create directory of the output file \n",
    "                create_folder(f'../data/test/raw/{truck_strategy}/sim_{counter}/')\n",
    "\n",
    "                results = fire.dc.get_model_vars_dataframe()\n",
    "                results.to_csv(f\"../data/test/raw/{truck_strategy}/sim_{counter}/model_result.csv\")\n",
    "\n",
    "                agent_variable = fire.dc.get_agent_vars_dataframe()\n",
    "                agent_variable[0].to_csv(f\"../data/test/raw/{truck_strategy}/sim_{counter}/agent_treeCell.csv\")\n",
    "                agent_variable[1].to_csv(f\"../data/test/raw/{truck_strategy}/sim_{counter}/agent_firetruck.csv\")\n",
    "\n",
    "                counter += 1\n",
    "                del fire\n",
    "                gc.collect()\n",
    "            \n",
    "        # End the timer\n",
    "        end_time = time.time()\n",
    "        print(truck_strategy + \" are finished!\")\n",
    "\n",
    "        # Calculate the elapsed time\n",
    "        elapsed_time = end_time - start_time\n",
    "        print(f\"The simulation took {elapsed_time} seconds to run.\")\n",
    "            \n"
   ]
  },
  {
   "cell_type": "code",
   "execution_count": 17,
   "metadata": {},
   "outputs": [],
   "source": [
    "for file in files:\n",
    "    process(file)"
   ]
  },
  {
   "cell_type": "code",
   "execution_count": null,
   "metadata": {},
   "outputs": [],
   "source": []
  }
 ],
 "metadata": {
  "kernelspec": {
   "display_name": "Dataproject",
   "language": "python",
   "name": "python3"
  },
  "language_info": {
   "codemirror_mode": {
    "name": "ipython",
    "version": 3
   },
   "file_extension": ".py",
   "mimetype": "text/x-python",
   "name": "python",
   "nbconvert_exporter": "python",
   "pygments_lexer": "ipython3",
   "version": "3.8.17"
  },
  "orig_nbformat": 4
 },
 "nbformat": 4,
 "nbformat_minor": 2
}
